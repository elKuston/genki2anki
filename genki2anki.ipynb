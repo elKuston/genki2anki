{
 "metadata": {
  "language_info": {
   "codemirror_mode": {
    "name": "ipython",
    "version": 3
   },
   "file_extension": ".py",
   "mimetype": "text/x-python",
   "name": "python",
   "nbconvert_exporter": "python",
   "pygments_lexer": "ipython3",
   "version": "3.8.0"
  },
  "orig_nbformat": 2,
  "kernelspec": {
   "name": "python380jvsc74a57bd09b5ff25f08daa3a5dd4fdd8eb3c3aaeeb96fe76d69732167462e0a3457808d9e",
   "display_name": "Python 3.8.0 64-bit"
  }
 },
 "nbformat": 4,
 "nbformat_minor": 2,
 "cells": [
  {
   "cell_type": "code",
   "execution_count": 1,
   "metadata": {},
   "outputs": [],
   "source": [
    "import easyocr"
   ]
  },
  {
   "cell_type": "code",
   "execution_count": 2,
   "metadata": {},
   "outputs": [],
   "source": [
    "images_path = 'images/'\n"
   ]
  },
  {
   "cell_type": "code",
   "execution_count": 11,
   "metadata": {},
   "outputs": [],
   "source": [
    "image = images_path+'ru-verbs.png'"
   ]
  },
  {
   "cell_type": "code",
   "execution_count": 12,
   "metadata": {},
   "outputs": [
    {
     "output_type": "stream",
     "name": "stderr",
     "text": [
      "CUDA not available - defaulting to CPU. Note: This module is much faster with a GPU.\n"
     ]
    }
   ],
   "source": [
    "reader = easyocr.Reader(['en', 'ja'])\n",
    "read = reader.readtext(image)"
   ]
  },
  {
   "cell_type": "code",
   "execution_count": 13,
   "metadata": {},
   "outputs": [],
   "source": [
    "def coord_esquinas_centrales_palabra(palabra):\n",
    "    return [esquina[1] for esquina in palabra[0]][1:3]\n",
    "\n",
    "def group_words_by_row(read_data):\n",
    "    words = [r[1] for r in read_data]\n",
    "    rows = []\n",
    "    curr_row = []\n",
    "    last_y = coord_esquinas_centrales_palabra(read_data[0])\n",
    "    last_center = (last_y[0] + last_y[1])/2\n",
    "    for r in read:\n",
    "        curr_y = coord_esquinas_centrales_palabra(r)\n",
    "        epsilon = (0.1 + 0.5) * (last_y[1] - last_y[0])\n",
    "        curr_center = (curr_y[0] + curr_y[1])/2\n",
    "        if curr_center <= last_center-epsilon or curr_center  >= last_center+epsilon:  # If it's not within +-10% of the row y, then its a new row\n",
    "            rows.append(curr_row)\n",
    "            curr_row = []\n",
    "        curr_row.append(r[1])\n",
    "        last_center = curr_center\n",
    "        #print(r)\n",
    "        #print(last_y)\n",
    "        #print(r[1], r[2])\n",
    "    rows.append(curr_row)\n",
    "    return rows"
   ]
  },
  {
   "cell_type": "code",
   "execution_count": 14,
   "metadata": {
    "tags": []
   },
   "outputs": [
    {
     "output_type": "execute_result",
     "data": {
      "text/plain": [
       "[['あける', '開ける', 'to open', '(sonething) (~を)'],\n",
       " ['おしえる', '教える', 'to teach;toinstruct'],\n",
       " ['(person に', 'を)'],\n",
       " ['おりる', '降りる', 'to', 'of', '(~を)'],\n",
       " ['かりる', '借りる', 'to', 'borrow', '(person に', 'を)'],\n",
       " ['しめる', '閉める', 'to close', '(sonething) (~を)'],\n",
       " ['シャワーをあびる', 'シャワーを', 'to takeashower'],\n",
       " ['浴びる'],\n",
       " ['つける', 'to turn on', '(~を)'],\n",
       " ['でんわをかける', '電話をかける', 'to makea', 'phonecall (~に)'],\n",
       " ['わすれる', '志れる', 'to', 'forget;toleavebehind (~を)'],\n",
       " ['thing'],\n",
       " ['get'],\n",
       " ['thing']]"
      ]
     },
     "metadata": {},
     "execution_count": 14
    }
   ],
   "source": [
    "rows = group_words_by_row(read)\n",
    "rows"
   ]
  },
  {
   "cell_type": "code",
   "execution_count": 15,
   "metadata": {},
   "outputs": [],
   "source": [
    "def get_cards(rows):\n",
    "    cards = []\n",
    "    for w in rows:\n",
    "        front = None\n",
    "        if len(w) == 2:\n",
    "            front = w[1]\n",
    "            back = w[0]\n",
    "        elif len(w) == 3:\n",
    "            front = w[2]\n",
    "            back = w[1] +'  '+ w[0]\n",
    "        if front is not None:\n",
    "            cards.append([front, back])\n",
    "        else:\n",
    "            print('Discarded row: '+w)\n",
    "    return cards"
   ]
  },
  {
   "cell_type": "code",
   "execution_count": 16,
   "metadata": {},
   "outputs": [
    {
     "output_type": "error",
     "ename": "TypeError",
     "evalue": "can only concatenate str (not \"list\") to str",
     "traceback": [
      "\u001b[1;31m---------------------------------------------------------------------------\u001b[0m",
      "\u001b[1;31mTypeError\u001b[0m                                 Traceback (most recent call last)",
      "\u001b[1;32m<ipython-input-16-6b99848f2294>\u001b[0m in \u001b[0;36m<module>\u001b[1;34m\u001b[0m\n\u001b[1;32m----> 1\u001b[1;33m \u001b[0mcards\u001b[0m \u001b[1;33m=\u001b[0m \u001b[0mget_cards\u001b[0m\u001b[1;33m(\u001b[0m\u001b[0mrows\u001b[0m\u001b[1;33m)\u001b[0m\u001b[1;33m\u001b[0m\u001b[1;33m\u001b[0m\u001b[0m\n\u001b[0m\u001b[0;32m      2\u001b[0m \u001b[0mcards\u001b[0m\u001b[1;33m\u001b[0m\u001b[1;33m\u001b[0m\u001b[0m\n",
      "\u001b[1;32m<ipython-input-15-519639c214ff>\u001b[0m in \u001b[0;36mget_cards\u001b[1;34m(rows)\u001b[0m\n\u001b[0;32m     12\u001b[0m             \u001b[0mcards\u001b[0m\u001b[1;33m.\u001b[0m\u001b[0mappend\u001b[0m\u001b[1;33m(\u001b[0m\u001b[1;33m[\u001b[0m\u001b[0mfront\u001b[0m\u001b[1;33m,\u001b[0m \u001b[0mback\u001b[0m\u001b[1;33m]\u001b[0m\u001b[1;33m)\u001b[0m\u001b[1;33m\u001b[0m\u001b[1;33m\u001b[0m\u001b[0m\n\u001b[0;32m     13\u001b[0m         \u001b[1;32melse\u001b[0m\u001b[1;33m:\u001b[0m\u001b[1;33m\u001b[0m\u001b[1;33m\u001b[0m\u001b[0m\n\u001b[1;32m---> 14\u001b[1;33m             \u001b[0mprint\u001b[0m\u001b[1;33m(\u001b[0m\u001b[1;34m'Discarded row: '\u001b[0m\u001b[1;33m+\u001b[0m\u001b[0mw\u001b[0m\u001b[1;33m)\u001b[0m\u001b[1;33m\u001b[0m\u001b[1;33m\u001b[0m\u001b[0m\n\u001b[0m\u001b[0;32m     15\u001b[0m     \u001b[1;32mreturn\u001b[0m \u001b[0mcards\u001b[0m\u001b[1;33m\u001b[0m\u001b[1;33m\u001b[0m\u001b[0m\n",
      "\u001b[1;31mTypeError\u001b[0m: can only concatenate str (not \"list\") to str"
     ]
    }
   ],
   "source": [
    "cards = get_cards(rows)\n",
    "cards"
   ]
  },
  {
   "cell_type": "code",
   "execution_count": null,
   "metadata": {},
   "outputs": [],
   "source": [
    "def export(cards, filename):\n",
    "    f = open(filename,'w', encoding='utf-8')\n",
    "    for c in cards:\n",
    "        text = c[0]+'\\t'+c[1]+'\\n'\n",
    "        f.write(text)\n",
    "\n",
    "    f.close()"
   ]
  },
  {
   "cell_type": "code",
   "execution_count": null,
   "metadata": {},
   "outputs": [],
   "source": [
    "export(cards, 'demo_deck.csv')"
   ]
  },
  {
   "cell_type": "code",
   "execution_count": null,
   "metadata": {},
   "outputs": [],
   "source": []
  },
  {
   "cell_type": "code",
   "execution_count": null,
   "metadata": {},
   "outputs": [],
   "source": []
  }
 ]
}